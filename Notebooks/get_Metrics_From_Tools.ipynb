{
 "cells": [
  {
   "cell_type": "code",
   "execution_count": 4,
   "id": "ff9dc664",
   "metadata": {},
   "outputs": [
    {
     "ename": "ModuleNotFoundError",
     "evalue": "No module named 'sonarqube'",
     "output_type": "error",
     "traceback": [
      "\u001b[1;31m---------------------------------------------------------------------------\u001b[0m",
      "\u001b[1;31mModuleNotFoundError\u001b[0m                       Traceback (most recent call last)",
      "Cell \u001b[1;32mIn[4], line 1\u001b[0m\n\u001b[1;32m----> 1\u001b[0m \u001b[38;5;28;01mfrom\u001b[39;00m \u001b[38;5;21;01msonarqube\u001b[39;00m \u001b[38;5;28;01mimport\u001b[39;00m SonarQubeClient\n\u001b[0;32m      2\u001b[0m \u001b[38;5;28;01mimport\u001b[39;00m \u001b[38;5;21;01mpandas\u001b[39;00m \u001b[38;5;28;01mas\u001b[39;00m \u001b[38;5;21;01mpd\u001b[39;00m \n\u001b[0;32m      3\u001b[0m \u001b[38;5;28;01mimport\u001b[39;00m \u001b[38;5;21;01mnumpy\u001b[39;00m \u001b[38;5;28;01mas\u001b[39;00m \u001b[38;5;21;01mnp\u001b[39;00m\n",
      "\u001b[1;31mModuleNotFoundError\u001b[0m: No module named 'sonarqube'"
     ]
    }
   ],
   "source": [
    "from sonarqube import SonarQubeClient\n",
    "import pandas as pd \n",
    "import numpy as np"
   ]
  },
  {
   "cell_type": "code",
   "execution_count": 3,
   "id": "b29b7d31",
   "metadata": {},
   "outputs": [
    {
     "name": "stdout",
     "output_type": "stream",
     "text": [
      "Note: you may need to restart the kernel to use updated packages.\n"
     ]
    },
    {
     "name": "stderr",
     "output_type": "stream",
     "text": [
      "ERROR: Could not find a version that satisfies the requirement sonarqube (from versions: none)\n",
      "ERROR: No matching distribution found for sonarqube\n",
      "\n",
      "[notice] A new release of pip available: 22.3.1 -> 24.2\n",
      "[notice] To update, run: python.exe -m pip install --upgrade pip\n"
     ]
    }
   ],
   "source": [
    "pip install sonarqube"
   ]
  },
  {
   "cell_type": "markdown",
   "id": "77148321",
   "metadata": {},
   "source": [
    "# SonarQube"
   ]
  },
  {
   "cell_type": "code",
   "execution_count": null,
   "id": "6e6dd671",
   "metadata": {},
   "outputs": [],
   "source": [
    "url = 'http://localhost:9000'\n",
    "username = \"admin\"\n",
    "password = \"varun\"\n",
    "sonar = SonarQubeClient(sonarqube_url=url, username=username, password=password)"
   ]
  },
  {
   "cell_type": "code",
   "execution_count": null,
   "id": "6a0a1690",
   "metadata": {},
   "outputs": [],
   "source": [
    "projects = sonar.projects.search_projects(ps=200)"
   ]
  },
  {
   "cell_type": "code",
   "execution_count": null,
   "id": "73387884",
   "metadata": {},
   "outputs": [],
   "source": [
    "df = pd.DataFrame(columns=['project','bugs', 'reliability_rating', 'reliability_remediation_effort', 'vulnerabilities', \n",
    "                           'security_rating','security_remediation_effort','security_hotspots','security_review_rating',\n",
    "                           'code_smells','sqale_rating','sqale_index','sqale_debt_ratio','files','functions','statements',\n",
    "                          'lines','comment_lines','duplicated_files','duplicated_lines','duplicated_lines_density',\n",
    "                          'complexity','cognitive_complexity','violations'])"
   ]
  },
  {
   "cell_type": "code",
   "execution_count": null,
   "id": "40857ca8",
   "metadata": {
    "scrolled": true
   },
   "outputs": [],
   "source": [
    "metrics = ['bugs', 'reliability_rating', 'reliability_remediation_effort', 'vulnerabilities', \n",
    "           'security_rating','security_remediation_effort','security_hotspots','security_review_rating',\n",
    "           'code_smells','sqale_rating','sqale_index','sqale_debt_ratio','files','functions','statements',\n",
    "           'lines','comment_lines','duplicated_files','duplicated_lines','duplicated_lines_density',\n",
    "           'complexity','cognitive_complexity','violations']\n",
    "for i in range (len(projects.get('components'))):\n",
    "    results = []\n",
    "    id = projects.get('components')[i].get('key')\n",
    "    results.append(id)\n",
    "    for j in metrics:\n",
    "        data = sonar.measures.get_component_with_specified_measures(component=id,\n",
    "                                                                    fields=\"metrics\",\n",
    "                                                                    metricKeys=j,)\n",
    "        results.append(data.get('component').get('measures')[0].get('value'))\n",
    "    df.loc[len(df)] = results"
   ]
  },
  {
   "cell_type": "code",
   "execution_count": null,
   "id": "06e0f488",
   "metadata": {},
   "outputs": [],
   "source": [
    "df"
   ]
  },
  {
   "cell_type": "code",
   "execution_count": null,
   "id": "37af5d69",
   "metadata": {},
   "outputs": [],
   "source": [
    "df.dtypes"
   ]
  },
  {
   "cell_type": "code",
   "execution_count": null,
   "id": "4d6b1af9",
   "metadata": {},
   "outputs": [],
   "source": [
    "df1 = df"
   ]
  },
  {
   "cell_type": "code",
   "execution_count": null,
   "id": "87249d60",
   "metadata": {},
   "outputs": [],
   "source": [
    "df1"
   ]
  },
  {
   "cell_type": "code",
   "execution_count": null,
   "id": "935e5a05",
   "metadata": {},
   "outputs": [],
   "source": [
    "df1 = df1[df1.columns[1:]].astype(float)"
   ]
  },
  {
   "cell_type": "code",
   "execution_count": null,
   "id": "cb97a50b",
   "metadata": {
    "scrolled": false
   },
   "outputs": [],
   "source": [
    "df1.dtypes"
   ]
  },
  {
   "cell_type": "code",
   "execution_count": null,
   "id": "6fd411c3",
   "metadata": {},
   "outputs": [],
   "source": [
    "# sqale index is debt in min so / by 480 for days"
   ]
  },
  {
   "cell_type": "code",
   "execution_count": null,
   "id": "a0378919",
   "metadata": {},
   "outputs": [],
   "source": [
    "df1['reliability_remediation_effort'] = df1['reliability_remediation_effort']/60\n",
    "df1['sqale_index'] = df1['sqale_index']/60\n",
    "df1['security_remediation_effort'] = df1['security_remediation_effort']/60"
   ]
  },
  {
   "cell_type": "code",
   "execution_count": null,
   "id": "f5c16e13",
   "metadata": {
    "scrolled": false
   },
   "outputs": [],
   "source": [
    "df1"
   ]
  },
  {
   "cell_type": "code",
   "execution_count": null,
   "id": "2ae886c8",
   "metadata": {},
   "outputs": [],
   "source": [
    "df2 = df"
   ]
  },
  {
   "cell_type": "code",
   "execution_count": null,
   "id": "980ee285",
   "metadata": {},
   "outputs": [],
   "source": [
    "df2 = df2[df2.columns[0]].astype(str)"
   ]
  },
  {
   "cell_type": "code",
   "execution_count": null,
   "id": "7e2bb366",
   "metadata": {
    "scrolled": true
   },
   "outputs": [],
   "source": [
    "df2 = df2.to_frame()"
   ]
  },
  {
   "cell_type": "code",
   "execution_count": null,
   "id": "47d78294",
   "metadata": {},
   "outputs": [],
   "source": [
    "df3 = df2.join(df1)"
   ]
  },
  {
   "cell_type": "code",
   "execution_count": null,
   "id": "237ed598",
   "metadata": {},
   "outputs": [],
   "source": [
    "df3.dtypes"
   ]
  },
  {
   "cell_type": "code",
   "execution_count": null,
   "id": "98305afd",
   "metadata": {},
   "outputs": [],
   "source": [
    "df3"
   ]
  },
  {
   "cell_type": "code",
   "execution_count": null,
   "id": "09a63541",
   "metadata": {},
   "outputs": [],
   "source": [
    "df3.to_csv('Sonarqube_results.csv',index=False)"
   ]
  },
  {
   "cell_type": "markdown",
   "id": "a33a5904",
   "metadata": {},
   "source": [
    "# Code Climate"
   ]
  },
  {
   "cell_type": "code",
   "execution_count": null,
   "id": "73e17145",
   "metadata": {},
   "outputs": [],
   "source": [
    "cc = pd.read_csv('Code_climate_results.csv')"
   ]
  },
  {
   "cell_type": "code",
   "execution_count": null,
   "id": "4ef2e711",
   "metadata": {},
   "outputs": [],
   "source": [
    "cc"
   ]
  },
  {
   "cell_type": "code",
   "execution_count": null,
   "id": "16e09385",
   "metadata": {},
   "outputs": [],
   "source": [
    "cc.dtypes"
   ]
  },
  {
   "cell_type": "markdown",
   "id": "c57d9d82",
   "metadata": {},
   "source": [
    "# Codiga"
   ]
  },
  {
   "cell_type": "code",
   "execution_count": null,
   "id": "265334d8",
   "metadata": {},
   "outputs": [],
   "source": [
    "c = pd.read_csv('Codiga_results.csv')"
   ]
  },
  {
   "cell_type": "code",
   "execution_count": null,
   "id": "cfed6a89",
   "metadata": {},
   "outputs": [],
   "source": [
    "c"
   ]
  },
  {
   "cell_type": "code",
   "execution_count": null,
   "id": "4cf10265",
   "metadata": {},
   "outputs": [],
   "source": [
    "c.dtypes"
   ]
  },
  {
   "cell_type": "code",
   "execution_count": null,
   "id": "8892d9c4",
   "metadata": {},
   "outputs": [],
   "source": [
    "c['Long function'] = c['Long function'].str.replace('//', '/')"
   ]
  },
  {
   "cell_type": "code",
   "execution_count": null,
   "id": "a858445f",
   "metadata": {},
   "outputs": [],
   "source": [
    "c = c.fillna(0)"
   ]
  },
  {
   "cell_type": "code",
   "execution_count": null,
   "id": "a009c5d2",
   "metadata": {},
   "outputs": [],
   "source": [
    "c.dtypes"
   ]
  },
  {
   "cell_type": "code",
   "execution_count": null,
   "id": "2b930cc5",
   "metadata": {},
   "outputs": [],
   "source": [
    "c"
   ]
  },
  {
   "cell_type": "code",
   "execution_count": null,
   "id": "b21b8a64",
   "metadata": {},
   "outputs": [],
   "source": [
    "c['Time'] = (c['Total Cost']/70).round(2)"
   ]
  },
  {
   "cell_type": "code",
   "execution_count": null,
   "id": "b35ac628",
   "metadata": {},
   "outputs": [],
   "source": [
    "c"
   ]
  },
  {
   "cell_type": "code",
   "execution_count": null,
   "id": "77c986da",
   "metadata": {},
   "outputs": [],
   "source": [
    "c.to_csv('Codiga_proc_results.csv',index=False)"
   ]
  }
 ],
 "metadata": {
  "kernelspec": {
   "display_name": "Python 3 (ipykernel)",
   "language": "python",
   "name": "python3"
  },
  "language_info": {
   "codemirror_mode": {
    "name": "ipython",
    "version": 3
   },
   "file_extension": ".py",
   "mimetype": "text/x-python",
   "name": "python",
   "nbconvert_exporter": "python",
   "pygments_lexer": "ipython3",
   "version": "3.11.1"
  }
 },
 "nbformat": 4,
 "nbformat_minor": 5
}
