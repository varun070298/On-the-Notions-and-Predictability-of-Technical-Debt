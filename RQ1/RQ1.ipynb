{
 "cells": [
  {
   "cell_type": "code",
   "execution_count": 79,
   "id": "7698387f",
   "metadata": {},
   "outputs": [],
   "source": [
    "import numpy as np\n",
    "import pandas as pd\n",
    "import matplotlib.pyplot as plt\n",
    "from platform import python_version"
   ]
  },
  {
   "cell_type": "code",
   "execution_count": 2,
   "id": "df5194fb",
   "metadata": {},
   "outputs": [],
   "source": [
    "from scipy import stats"
   ]
  },
  {
   "cell_type": "code",
   "execution_count": 80,
   "id": "cbdc7164",
   "metadata": {},
   "outputs": [
    {
     "name": "stdout",
     "output_type": "stream",
     "text": [
      "3.11.1\n"
     ]
    }
   ],
   "source": [
    "print(python_version())"
   ]
  },
  {
   "cell_type": "markdown",
   "id": "e2b8ecfd",
   "metadata": {},
   "source": [
    "# Data"
   ]
  },
  {
   "cell_type": "code",
   "execution_count": 3,
   "id": "d66d3588",
   "metadata": {},
   "outputs": [],
   "source": [
    "td = pd.read_csv('TD.csv')"
   ]
  },
  {
   "cell_type": "code",
   "execution_count": 4,
   "id": "564fca8a",
   "metadata": {},
   "outputs": [
    {
     "data": {
      "text/html": [
       "<div>\n",
       "<style scoped>\n",
       "    .dataframe tbody tr th:only-of-type {\n",
       "        vertical-align: middle;\n",
       "    }\n",
       "\n",
       "    .dataframe tbody tr th {\n",
       "        vertical-align: top;\n",
       "    }\n",
       "\n",
       "    .dataframe thead th {\n",
       "        text-align: right;\n",
       "    }\n",
       "</style>\n",
       "<table border=\"1\" class=\"dataframe\">\n",
       "  <thead>\n",
       "    <tr style=\"text-align: right;\">\n",
       "      <th></th>\n",
       "      <th>Project</th>\n",
       "      <th>SonarQube_debt</th>\n",
       "      <th>Codiga_debt</th>\n",
       "      <th>CodeClimate_debt</th>\n",
       "    </tr>\n",
       "  </thead>\n",
       "  <tbody>\n",
       "    <tr>\n",
       "      <th>0</th>\n",
       "      <td>ant-1.8</td>\n",
       "      <td>1431.033333</td>\n",
       "      <td>677.56</td>\n",
       "      <td>5595.5</td>\n",
       "    </tr>\n",
       "    <tr>\n",
       "      <th>1</th>\n",
       "      <td>antlr-3</td>\n",
       "      <td>934.400000</td>\n",
       "      <td>737.00</td>\n",
       "      <td>5701.4</td>\n",
       "    </tr>\n",
       "    <tr>\n",
       "      <th>2</th>\n",
       "      <td>aoi-2.8</td>\n",
       "      <td>1606.300000</td>\n",
       "      <td>702.66</td>\n",
       "      <td>10842.6</td>\n",
       "    </tr>\n",
       "    <tr>\n",
       "      <th>3</th>\n",
       "      <td>argouml</td>\n",
       "      <td>2277.266667</td>\n",
       "      <td>992.36</td>\n",
       "      <td>11998.6</td>\n",
       "    </tr>\n",
       "    <tr>\n",
       "      <th>4</th>\n",
       "      <td>aspectj</td>\n",
       "      <td>6653.583333</td>\n",
       "      <td>3144.50</td>\n",
       "      <td>67848.8</td>\n",
       "    </tr>\n",
       "    <tr>\n",
       "      <th>...</th>\n",
       "      <td>...</td>\n",
       "      <td>...</td>\n",
       "      <td>...</td>\n",
       "      <td>...</td>\n",
       "    </tr>\n",
       "    <tr>\n",
       "      <th>104</th>\n",
       "      <td>webmail</td>\n",
       "      <td>106.066667</td>\n",
       "      <td>48.60</td>\n",
       "      <td>209.7</td>\n",
       "    </tr>\n",
       "    <tr>\n",
       "      <th>105</th>\n",
       "      <td>weka-3-</td>\n",
       "      <td>24019.166670</td>\n",
       "      <td>1580.20</td>\n",
       "      <td>21832.0</td>\n",
       "    </tr>\n",
       "    <tr>\n",
       "      <th>106</th>\n",
       "      <td>xalan-2</td>\n",
       "      <td>2043.733333</td>\n",
       "      <td>1046.26</td>\n",
       "      <td>13372.4</td>\n",
       "    </tr>\n",
       "    <tr>\n",
       "      <th>107</th>\n",
       "      <td>xerces-</td>\n",
       "      <td>1532.333333</td>\n",
       "      <td>916.50</td>\n",
       "      <td>11602.9</td>\n",
       "    </tr>\n",
       "    <tr>\n",
       "      <th>108</th>\n",
       "      <td>xmojo-5</td>\n",
       "      <td>2018.883333</td>\n",
       "      <td>36.36</td>\n",
       "      <td>0.0</td>\n",
       "    </tr>\n",
       "  </tbody>\n",
       "</table>\n",
       "<p>109 rows × 4 columns</p>\n",
       "</div>"
      ],
      "text/plain": [
       "     Project  SonarQube_debt  Codiga_debt  CodeClimate_debt\n",
       "0    ant-1.8     1431.033333       677.56            5595.5\n",
       "1    antlr-3      934.400000       737.00            5701.4\n",
       "2    aoi-2.8     1606.300000       702.66           10842.6\n",
       "3    argouml     2277.266667       992.36           11998.6\n",
       "4    aspectj     6653.583333      3144.50           67848.8\n",
       "..       ...             ...          ...               ...\n",
       "104  webmail      106.066667        48.60             209.7\n",
       "105  weka-3-    24019.166670      1580.20           21832.0\n",
       "106  xalan-2     2043.733333      1046.26           13372.4\n",
       "107  xerces-     1532.333333       916.50           11602.9\n",
       "108  xmojo-5     2018.883333        36.36               0.0\n",
       "\n",
       "[109 rows x 4 columns]"
      ]
     },
     "execution_count": 4,
     "metadata": {},
     "output_type": "execute_result"
    }
   ],
   "source": [
    "td"
   ]
  },
  {
   "cell_type": "code",
   "execution_count": 5,
   "id": "0a767c55",
   "metadata": {},
   "outputs": [],
   "source": [
    "sq_td = td['SonarQube_debt']"
   ]
  },
  {
   "cell_type": "code",
   "execution_count": 6,
   "id": "a1dd4579",
   "metadata": {},
   "outputs": [],
   "source": [
    "co_td = td['Codiga_debt']"
   ]
  },
  {
   "cell_type": "code",
   "execution_count": 7,
   "id": "a453f870",
   "metadata": {},
   "outputs": [],
   "source": [
    "cc_td = td['CodeClimate_debt']"
   ]
  },
  {
   "cell_type": "markdown",
   "id": "a667bcb4",
   "metadata": {},
   "source": [
    "## SonarQube vs Codiga"
   ]
  },
  {
   "cell_type": "code",
   "execution_count": 8,
   "id": "acef4430",
   "metadata": {},
   "outputs": [
    {
     "data": {
      "text/plain": [
       "PearsonRResult(statistic=0.19725817220940647, pvalue=0.03978831834883797)"
      ]
     },
     "execution_count": 8,
     "metadata": {},
     "output_type": "execute_result"
    }
   ],
   "source": [
    "sq_co_per_co = stats.pearsonr(sq_td,co_td)\n",
    "sq_co_per_co"
   ]
  },
  {
   "cell_type": "code",
   "execution_count": 9,
   "id": "2be56595",
   "metadata": {},
   "outputs": [
    {
     "data": {
      "text/plain": [
       "SignificanceResult(statistic=0.4371761123583426, pvalue=1.6111445451550733e-11)"
      ]
     },
     "execution_count": 9,
     "metadata": {},
     "output_type": "execute_result"
    }
   ],
   "source": [
    "sq_co_ken_co = stats.kendalltau(sq_td, co_td)\n",
    "sq_co_ken_co"
   ]
  },
  {
   "cell_type": "code",
   "execution_count": 10,
   "id": "4bb6371d",
   "metadata": {},
   "outputs": [
    {
     "data": {
      "text/plain": [
       "SignificanceResult(statistic=0.5616035622375424, pvalue=2.1108822006821138e-10)"
      ]
     },
     "execution_count": 10,
     "metadata": {},
     "output_type": "execute_result"
    }
   ],
   "source": [
    "sq_co_spe_co = stats.spearmanr(sq_td, co_td)\n",
    "sq_co_spe_co"
   ]
  },
  {
   "cell_type": "code",
   "execution_count": 11,
   "id": "39889865",
   "metadata": {},
   "outputs": [
    {
     "data": {
      "text/plain": [
       "KstestResult(statistic=0.44036697247706424, pvalue=7.003146055137636e-10, statistic_location=780.86, statistic_sign=-1)"
      ]
     },
     "execution_count": 11,
     "metadata": {},
     "output_type": "execute_result"
    }
   ],
   "source": [
    "sq_co_ks2 = stats.ks_2samp(sq_td, co_td)\n",
    "sq_co_ks2"
   ]
  },
  {
   "cell_type": "code",
   "execution_count": 12,
   "id": "d82e365e",
   "metadata": {},
   "outputs": [
    {
     "data": {
      "text/plain": [
       "Ttest_indResult(statistic=4.325544491825122, pvalue=2.3248805146685487e-05)"
      ]
     },
     "execution_count": 12,
     "metadata": {},
     "output_type": "execute_result"
    }
   ],
   "source": [
    "sq_co_tt = stats.ttest_ind(sq_td, co_td)\n",
    "sq_co_tt"
   ]
  },
  {
   "cell_type": "markdown",
   "id": "42655d9b",
   "metadata": {},
   "source": [
    "## SonarQube vs CodeClimate"
   ]
  },
  {
   "cell_type": "code",
   "execution_count": 13,
   "id": "38f20097",
   "metadata": {},
   "outputs": [
    {
     "data": {
      "text/plain": [
       "PearsonRResult(statistic=0.1066053476979371, pvalue=0.26989323370019613)"
      ]
     },
     "execution_count": 13,
     "metadata": {},
     "output_type": "execute_result"
    }
   ],
   "source": [
    "sq_cc_per_co = stats.pearsonr(sq_td,cc_td)\n",
    "sq_cc_per_co"
   ]
  },
  {
   "cell_type": "code",
   "execution_count": 14,
   "id": "7e723553",
   "metadata": {},
   "outputs": [
    {
     "data": {
      "text/plain": [
       "SignificanceResult(statistic=0.4091063540604825, pvalue=2.873822587971838e-10)"
      ]
     },
     "execution_count": 14,
     "metadata": {},
     "output_type": "execute_result"
    }
   ],
   "source": [
    "sq_cc_ken_co = stats.kendalltau(sq_td, cc_td)\n",
    "sq_cc_ken_co"
   ]
  },
  {
   "cell_type": "code",
   "execution_count": 15,
   "id": "05694f83",
   "metadata": {},
   "outputs": [
    {
     "data": {
      "text/plain": [
       "SignificanceResult(statistic=0.5362338986192197, pvalue=1.8619543909417223e-09)"
      ]
     },
     "execution_count": 15,
     "metadata": {},
     "output_type": "execute_result"
    }
   ],
   "source": [
    "sq_cc_spe_co = stats.spearmanr(sq_td, cc_td)\n",
    "sq_cc_spe_co"
   ]
  },
  {
   "cell_type": "code",
   "execution_count": 16,
   "id": "7604f02c",
   "metadata": {},
   "outputs": [
    {
     "data": {
      "text/plain": [
       "KstestResult(statistic=0.27522935779816515, pvalue=0.00048468572223467126, statistic_location=1606.3, statistic_sign=1)"
      ]
     },
     "execution_count": 16,
     "metadata": {},
     "output_type": "execute_result"
    }
   ],
   "source": [
    "sq_cc_ks2 = stats.ks_2samp(sq_td, cc_td)\n",
    "sq_cc_ks2"
   ]
  },
  {
   "cell_type": "code",
   "execution_count": 17,
   "id": "04044689",
   "metadata": {},
   "outputs": [
    {
     "data": {
      "text/plain": [
       "Ttest_indResult(statistic=-1.8703087071615254, pvalue=0.06279358096871292)"
      ]
     },
     "execution_count": 17,
     "metadata": {},
     "output_type": "execute_result"
    }
   ],
   "source": [
    "sq_cc_tt = stats.ttest_ind(sq_td, cc_td)\n",
    "sq_cc_tt"
   ]
  },
  {
   "cell_type": "markdown",
   "id": "fb4371c4",
   "metadata": {},
   "source": [
    "## CodeClimate vs Codiga"
   ]
  },
  {
   "cell_type": "code",
   "execution_count": 18,
   "id": "0b14ef86",
   "metadata": {},
   "outputs": [
    {
     "data": {
      "text/plain": [
       "PearsonRResult(statistic=0.932679369558844, pvalue=3.3992598625241803e-49)"
      ]
     },
     "execution_count": 18,
     "metadata": {},
     "output_type": "execute_result"
    }
   ],
   "source": [
    "cc_co_per_co = stats.pearsonr(cc_td,co_td)\n",
    "cc_co_per_co"
   ]
  },
  {
   "cell_type": "code",
   "execution_count": 19,
   "id": "2035ef87",
   "metadata": {},
   "outputs": [
    {
     "data": {
      "text/plain": [
       "SignificanceResult(statistic=0.7504884913668088, pvalue=6.118974970765523e-31)"
      ]
     },
     "execution_count": 19,
     "metadata": {},
     "output_type": "execute_result"
    }
   ],
   "source": [
    "cc_co_ken_co = stats.kendalltau(cc_td, co_td)\n",
    "cc_co_ken_co"
   ]
  },
  {
   "cell_type": "code",
   "execution_count": 20,
   "id": "26d62084",
   "metadata": {},
   "outputs": [
    {
     "data": {
      "text/plain": [
       "SignificanceResult(statistic=0.8972636856285909, pvalue=8.697983488292328e-40)"
      ]
     },
     "execution_count": 20,
     "metadata": {},
     "output_type": "execute_result"
    }
   ],
   "source": [
    "cc_co_spe_co = stats.spearmanr(cc_td, co_td)\n",
    "cc_co_spe_co"
   ]
  },
  {
   "cell_type": "code",
   "execution_count": 21,
   "id": "bcdd0c2f",
   "metadata": {},
   "outputs": [
    {
     "data": {
      "text/plain": [
       "KstestResult(statistic=0.6146788990825688, pvalue=1.4995090105333077e-19, statistic_location=1064.7, statistic_sign=-1)"
      ]
     },
     "execution_count": 21,
     "metadata": {},
     "output_type": "execute_result"
    }
   ],
   "source": [
    "cc_co_ks2 = stats.ks_2samp(cc_td, co_td)\n",
    "cc_co_ks2"
   ]
  },
  {
   "cell_type": "code",
   "execution_count": 22,
   "id": "f480dca0",
   "metadata": {},
   "outputs": [
    {
     "data": {
      "text/plain": [
       "Ttest_indResult(statistic=2.610510021577265, pvalue=0.009673811667039962)"
      ]
     },
     "execution_count": 22,
     "metadata": {},
     "output_type": "execute_result"
    }
   ],
   "source": [
    "cc_co_tt = stats.ttest_ind(cc_td, co_td)\n",
    "cc_co_tt"
   ]
  },
  {
   "cell_type": "code",
   "execution_count": 23,
   "id": "524d2be6",
   "metadata": {},
   "outputs": [],
   "source": [
    "compare = ['SonarQube vs Codiga','SonarQube vs CodeClimate','CodeClimate vs Codiga']\n",
    "pearson_co = [sq_co_per_co[0],sq_cc_per_co[0],cc_co_per_co[0]]\n",
    "pearson_p = [sq_co_per_co[1],sq_cc_per_co[1],cc_co_per_co[1]]\n",
    "ken_co = [sq_co_ken_co[0],sq_cc_ken_co[0],cc_co_ken_co[0]]\n",
    "ken_p = [sq_co_ken_co[1],sq_cc_ken_co[1],cc_co_ken_co[1]]\n",
    "spear_co = [sq_co_spe_co[0],sq_cc_spe_co[0],cc_co_spe_co[0]]\n",
    "spear_p = [sq_co_spe_co[1],sq_cc_spe_co[1],cc_co_spe_co[1]]\n",
    "ks2_res = [sq_co_ks2[0],sq_cc_ks2[0],cc_co_ks2[0]]\n",
    "ks2_p = [sq_co_ks2[1],sq_cc_ks2[1],cc_co_ks2[1]]\n",
    "tt_res = [sq_co_tt[0],sq_cc_tt[0],cc_co_tt[0]]\n",
    "tt_p = [sq_co_tt[1],sq_cc_tt[1],cc_co_tt[1]]"
   ]
  },
  {
   "cell_type": "code",
   "execution_count": 24,
   "id": "899d42eb",
   "metadata": {},
   "outputs": [],
   "source": [
    "df = pd.DataFrame({'tools':compare, 'pearson_coefficient':pearson_co, 'pearson p-value':pearson_p,'kendall coefficient':ken_co, 'kendall p-value':ken_p,\n",
    "                  'spearman coefficient':spear_co, 'spearman p-value':spear_p,'ks2 distance':ks2_res, 'ks2 p-value':ks2_p,\n",
    "                  't_test distance':tt_res, 't_test p-value':tt_p})"
   ]
  },
  {
   "cell_type": "code",
   "execution_count": 25,
   "id": "7d412636",
   "metadata": {},
   "outputs": [
    {
     "data": {
      "text/html": [
       "<div>\n",
       "<style scoped>\n",
       "    .dataframe tbody tr th:only-of-type {\n",
       "        vertical-align: middle;\n",
       "    }\n",
       "\n",
       "    .dataframe tbody tr th {\n",
       "        vertical-align: top;\n",
       "    }\n",
       "\n",
       "    .dataframe thead th {\n",
       "        text-align: right;\n",
       "    }\n",
       "</style>\n",
       "<table border=\"1\" class=\"dataframe\">\n",
       "  <thead>\n",
       "    <tr style=\"text-align: right;\">\n",
       "      <th></th>\n",
       "      <th>tools</th>\n",
       "      <th>pearson_coefficient</th>\n",
       "      <th>pearson p-value</th>\n",
       "      <th>kendall coefficient</th>\n",
       "      <th>kendall p-value</th>\n",
       "      <th>spearman coefficient</th>\n",
       "      <th>spearman p-value</th>\n",
       "      <th>ks2 distance</th>\n",
       "      <th>ks2 p-value</th>\n",
       "      <th>t_test distance</th>\n",
       "      <th>t_test p-value</th>\n",
       "    </tr>\n",
       "  </thead>\n",
       "  <tbody>\n",
       "    <tr>\n",
       "      <th>0</th>\n",
       "      <td>SonarQube vs Codiga</td>\n",
       "      <td>0.197258</td>\n",
       "      <td>3.978832e-02</td>\n",
       "      <td>0.437176</td>\n",
       "      <td>1.611145e-11</td>\n",
       "      <td>0.561604</td>\n",
       "      <td>2.110882e-10</td>\n",
       "      <td>0.440367</td>\n",
       "      <td>7.003146e-10</td>\n",
       "      <td>4.325544</td>\n",
       "      <td>0.000023</td>\n",
       "    </tr>\n",
       "    <tr>\n",
       "      <th>1</th>\n",
       "      <td>SonarQube vs CodeClimate</td>\n",
       "      <td>0.106605</td>\n",
       "      <td>2.698932e-01</td>\n",
       "      <td>0.409106</td>\n",
       "      <td>2.873823e-10</td>\n",
       "      <td>0.536234</td>\n",
       "      <td>1.861954e-09</td>\n",
       "      <td>0.275229</td>\n",
       "      <td>4.846857e-04</td>\n",
       "      <td>-1.870309</td>\n",
       "      <td>0.062794</td>\n",
       "    </tr>\n",
       "    <tr>\n",
       "      <th>2</th>\n",
       "      <td>CodeClimate vs Codiga</td>\n",
       "      <td>0.932679</td>\n",
       "      <td>3.399260e-49</td>\n",
       "      <td>0.750488</td>\n",
       "      <td>6.118975e-31</td>\n",
       "      <td>0.897264</td>\n",
       "      <td>8.697983e-40</td>\n",
       "      <td>0.614679</td>\n",
       "      <td>1.499509e-19</td>\n",
       "      <td>2.610510</td>\n",
       "      <td>0.009674</td>\n",
       "    </tr>\n",
       "  </tbody>\n",
       "</table>\n",
       "</div>"
      ],
      "text/plain": [
       "                      tools  pearson_coefficient  pearson p-value  \\\n",
       "0       SonarQube vs Codiga             0.197258     3.978832e-02   \n",
       "1  SonarQube vs CodeClimate             0.106605     2.698932e-01   \n",
       "2     CodeClimate vs Codiga             0.932679     3.399260e-49   \n",
       "\n",
       "   kendall coefficient  kendall p-value  spearman coefficient  \\\n",
       "0             0.437176     1.611145e-11              0.561604   \n",
       "1             0.409106     2.873823e-10              0.536234   \n",
       "2             0.750488     6.118975e-31              0.897264   \n",
       "\n",
       "   spearman p-value  ks2 distance   ks2 p-value  t_test distance  \\\n",
       "0      2.110882e-10      0.440367  7.003146e-10         4.325544   \n",
       "1      1.861954e-09      0.275229  4.846857e-04        -1.870309   \n",
       "2      8.697983e-40      0.614679  1.499509e-19         2.610510   \n",
       "\n",
       "   t_test p-value  \n",
       "0        0.000023  \n",
       "1        0.062794  \n",
       "2        0.009674  "
      ]
     },
     "execution_count": 25,
     "metadata": {},
     "output_type": "execute_result"
    }
   ],
   "source": [
    "df"
   ]
  },
  {
   "cell_type": "code",
   "execution_count": 26,
   "id": "9c1721bd",
   "metadata": {},
   "outputs": [],
   "source": [
    "df.to_csv('Stat_compare_TD.csv',index=False)"
   ]
  },
  {
   "cell_type": "code",
   "execution_count": 27,
   "id": "ee3b8d46",
   "metadata": {},
   "outputs": [
    {
     "data": {
      "text/plain": [
       "Text(0, 0.5, 'Probability Distribution')"
      ]
     },
     "execution_count": 27,
     "metadata": {},
     "output_type": "execute_result"
    },
    {
     "data": {
      "image/png": "[encoded data removed]",
      "text/plain": [
       "<Figure size 700x600 with 1 Axes>"
      ]
     },
     "metadata": {},
     "output_type": "display_data"
    }
   ],
   "source": [
    "plt.figure(figsize=(7,6))\n",
    "td['SonarQube_debt'].hist(cumulative=True, density=1, bins=100)\n",
    "plt.suptitle('CDF of Technical Debt in SonarQube', fontsize=12, color='black')\n",
    "plt.xlabel(\"Technical Debt\")\n",
    "plt.ylabel(\"Probability Distribution\")"
   ]
  },
  {
   "cell_type": "code",
   "execution_count": 28,
   "id": "e3af6a7c",
   "metadata": {},
   "outputs": [
    {
     "data": {
      "text/plain": [
       "Text(0, 0.5, 'Probability Distribution')"
      ]
     },
     "execution_count": 28,
     "metadata": {},
     "output_type": "execute_result"
    },
    {
     "data": {
      "image/png": "[encoded data removed]",
      "text/plain": [
       "<Figure size 700x600 with 1 Axes>"
      ]
     },
     "metadata": {},
     "output_type": "display_data"
    }
   ],
   "source": [
    "plt.figure(figsize=(7,6))\n",
    "td['Codiga_debt'].hist(cumulative=True, density=1, bins=100)\n",
    "plt.suptitle('CDF of Technical Debt in Codiga', fontsize=12, color='black')\n",
    "plt.xlabel(\"Technical Debt\")\n",
    "plt.ylabel(\"Probability Distribution\")"
   ]
  },
  {
   "cell_type": "code",
   "execution_count": 29,
   "id": "5038b053",
   "metadata": {
    "scrolled": false
   },
   "outputs": [
    {
     "data": {
      "text/plain": [
       "Text(0, 0.5, 'Probability Distribution')"
      ]
     },
     "execution_count": 29,
     "metadata": {},
     "output_type": "execute_result"
    },
    {
     "data": {
      "image/png": "[encoded data removed]",
      "text/plain": [
       "<Figure size 700x600 with 1 Axes>"
      ]
     },
     "metadata": {},
     "output_type": "display_data"
    }
   ],
   "source": [
    "plt.figure(figsize=(7,6))\n",
    "td['CodeClimate_debt'].hist(cumulative=True, density=1, bins=100)\n",
    "plt.suptitle('CDF of Technical Debt in CodeClimate', fontsize=12, color='black')\n",
    "plt.xlabel(\"Technical Debt\")\n",
    "plt.ylabel(\"Probability Distribution\")"
   ]
  },
  {
   "cell_type": "code",
   "execution_count": 78,
   "id": "a54aaa81",
   "metadata": {
    "scrolled": false
   },
   "outputs": [
    {
     "data": {
      "image/png": "[encoded data removed]",
      "text/plain": [
       "<Figure size 1500x600 with 1 Axes>"
      ]
     },
     "metadata": {},
     "output_type": "display_data"
    }
   ],
   "source": [
    "count, bins_count = np.histogram(td['SonarQube_debt'], bins=10)\n",
    "pdf = count / sum(count)\n",
    "cdf = np.cumsum(pdf)\n",
    "\n",
    "co_count, co_bins_count = np.histogram(td['Codiga_debt'], bins=10)\n",
    "co_pdf = co_count / sum(co_count)\n",
    "co_cdf = np.cumsum(co_pdf)\n",
    "\n",
    "cc_count, cc_bins_count = np.histogram(td['CodeClimate_debt'], bins=10)\n",
    "cc_pdf = cc_count / sum(cc_count)\n",
    "cc_cdf = np.cumsum(cc_pdf)\n",
    "plt.figure(figsize=(15,6))\n",
    "plt.title('CDF of Technical Debt for all tools', fontsize=12, color='black')\n",
    "plt.plot(bins_count[1:], cdf, label=\"SonarQube CDF\")\n",
    "plt.plot(co_bins_count[1:], co_cdf, label=\"Codiga CDF\")\n",
    "plt.plot(cc_bins_count[1:], cc_cdf, label=\"CodeClimate CDF\")\n",
    "plt.xlabel(\"Technical Debt\",fontsize=12)\n",
    "plt.ylabel(\"% Technical Debt\",fontsize=12)\n",
    "plt.legend()\n",
    "plt.xticks(np.arange(0, 470000, 25000))\n",
    "plt.grid()\n",
    "plt.savefig('CDF_plot.png')\n",
    "plt.show()\n"
   ]
  },
  {
   "cell_type": "code",
   "execution_count": null,
   "id": "c38e9e8b",
   "metadata": {},
   "outputs": [],
   "source": []
  }
 ],
 "metadata": {
  "kernelspec": {
   "display_name": "Python 3 (ipykernel)",
   "language": "python",
   "name": "python3"
  },
  "language_info": {
   "codemirror_mode": {
    "name": "ipython",
    "version": 3
   },
   "file_extension": ".py",
   "mimetype": "text/x-python",
   "name": "python",
   "nbconvert_exporter": "python",
   "pygments_lexer": "ipython3",
   "version": "3.11.1"
  }
 },
 "nbformat": 4,
 "nbformat_minor": 5
}
